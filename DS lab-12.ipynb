{
  "nbformat": 4,
  "nbformat_minor": 0,
  "metadata": {
    "colab": {
      "name": "Practical12.ipynb",
      "provenance": []
    },
    "kernelspec": {
      "name": "python3",
      "display_name": "Python 3"
    }
  },
  "cells": [
    {
      "cell_type": "code",
      "metadata": {
        "colab": {
          "base_uri": "https://localhost:8080/"
        },
        "id": "mGNWrbJvb-u3",
        "outputId": "ec60735a-99f9-419a-8217-70b6cede8ba3"
      },
      "source": [
        "#One Sampled T-Test\r\n",
        "import numpy as np\r\n",
        "import pandas as pd\r\n",
        "from scipy.stats import ttest_1samp\r\n",
        "ages = pd.DataFrame({'ages':[32,34,29,29,22,39,38,37,38,36,30,26,22,22]})\r\n",
        "print(ages)\r\n",
        "ages_mean = np.mean(ages)\r\n",
        "print(ages_mean)\r\n",
        "tset, pval = ttest_1samp(ages, 30)\r\n",
        "print(tset)\r\n",
        "print('p-values',pval)\r\n",
        "if pval < 0.05:    # alpha value is 0.05 or 5%\r\n",
        "   print(\" we are rejecting null hypothesis\")\r\n",
        "else:\r\n",
        "  print(\"we are accepting null hypothesis\")"
      ],
      "execution_count": null,
      "outputs": [
        {
          "output_type": "stream",
          "text": [
            "    ages\n",
            "0     32\n",
            "1     34\n",
            "2     29\n",
            "3     29\n",
            "4     22\n",
            "5     39\n",
            "6     38\n",
            "7     37\n",
            "8     38\n",
            "9     36\n",
            "10    30\n",
            "11    26\n",
            "12    22\n",
            "13    22\n",
            "ages    31.0\n",
            "dtype: float64\n",
            "[0.5973799]\n",
            "p-values [0.56051559]\n",
            "we are accepting null hypothesis\n"
          ],
          "name": "stdout"
        }
      ]
    },
    {
      "cell_type": "code",
      "metadata": {
        "id": "ZjJwN1uDVJC7",
        "colab": {
          "base_uri": "https://localhost:8080/"
        },
        "outputId": "ea21dac7-9bbf-4294-c54f-08491e902ef0"
      },
      "source": [
        "#Two Sampled T-Test\r\n",
        "from scipy.stats import ttest_ind\r\n",
        "import numpy as np\r\n",
        "import pandas as pd\r\n",
        "week1 = pd.read_csv(\"week1.csv\")\r\n",
        "week2 = pd.read_csv(\"week2.csv\")\r\n",
        "\r\n",
        "print(week1)\r\n",
        "print(\"week2 data :-\\n\")\r\n",
        "print(week2)\r\n",
        "week1_mean = np.mean(week1)\r\n",
        "week2_mean = np.mean(week2)\r\n",
        "print(\"week1 mean value:\",week1_mean)\r\n",
        "print(\"week2 mean value:\",week2_mean)\r\n",
        "week1_std = np.std(week1)\r\n",
        "week2_std = np.std(week2)\r\n",
        "print(\"week1 std value:\",week1_std)\r\n",
        "print(\"week2 std value:\",week2_std)\r\n",
        "ttest,pval = ttest_ind(week1,week2)\r\n",
        "print(\"p-value\",pval)\r\n",
        "if pval <0.05:\r\n",
        "  print(\"we reject null hypothesis\")\r\n",
        "else:\r\n",
        "  print(\"we accept null hypothesis\")"
      ],
      "execution_count": null,
      "outputs": [
        {
          "output_type": "stream",
          "text": [
            "         Data\n",
            "0   12.152452\n",
            "1   15.263790\n",
            "2   18.268980\n",
            "3   16.985980\n",
            "4   18.425420\n",
            "5   12.145470\n",
            "6   18.125780\n",
            "7   17.458760\n",
            "8   15.689580\n",
            "9   15.145780\n",
            "10  16.245150\n",
            "11  18.354280\n",
            "12  14.654780\n",
            "13  16.254860\n",
            "14  14.689570\n",
            "15  15.356240\n",
            "16  14.524670\n",
            "17  15.254780\n",
            "18  18.567890\n",
            "19  16.354640\n",
            "20  19.254860\n",
            "21  17.598340\n",
            "22  16.525250\n",
            "23  17.525450\n",
            "24  19.021520\n",
            "25  18.204680\n",
            "26  17.201300\n",
            "27  17.202020\n",
            "28  18.201300\n",
            "29  16.235360\n",
            "30  17.279650\n",
            "31  17.265890\n",
            "32  14.201020\n",
            "33  15.624100\n",
            "34  17.230150\n",
            "35  18.547050\n",
            "36  17.506470\n",
            "37  18.024750\n",
            "38  12.035480\n",
            "39  15.026240\n",
            "40  15.452680\n",
            "41  15.243590\n",
            "42  18.254520\n",
            "43  12.353640\n",
            "44  16.324560\n",
            "45  17.251540\n",
            "46  12.154860\n",
            "47  15.246121\n",
            "48  17.256350\n",
            "49  18.214120\n",
            "week2 data :-\n",
            "\n",
            "    Data_week2\n",
            "0    23.215420\n",
            "1    26.021020\n",
            "2    24.021540\n",
            "3    25.032540\n",
            "4    26.541250\n",
            "5    27.541250\n",
            "6    21.032560\n",
            "7    26.201550\n",
            "8    28.365420\n",
            "9    25.325602\n",
            "10   24.879280\n",
            "11   25.654800\n",
            "12   25.698520\n",
            "13   26.254180\n",
            "14   28.362050\n",
            "15   27.254120\n",
            "16   26.215420\n",
            "17   28.262010\n",
            "18   24.025150\n",
            "19   26.022250\n",
            "20   27.632500\n",
            "21   29.520150\n",
            "22   28.302110\n",
            "23   28.062450\n",
            "24   27.521400\n",
            "25   25.621020\n",
            "26   27.025250\n",
            "27   26.205010\n",
            "28   28.254200\n",
            "29   29.262400\n",
            "30   25.632500\n",
            "31   24.025350\n",
            "32   28.360250\n",
            "33   27.250150\n",
            "34   28.284050\n",
            "35   27.620150\n",
            "36   29.302640\n",
            "37   25.303620\n",
            "38   26.025220\n",
            "39   26.250320\n",
            "40   25.033200\n",
            "41   24.325020\n",
            "42   28.326010\n",
            "43   27.262020\n",
            "44   28.026250\n",
            "45   27.621020\n",
            "46   28.302150\n",
            "47   27.036520\n",
            "48   25.302150\n",
            "49   26.201250\n",
            "week1 mean value: Data    16.347634\n",
            "dtype: float64\n",
            "week2 mean value: Data_week2    26.576445\n",
            "dtype: float64\n",
            "week1 std value: Data    1.900725\n",
            "dtype: float64\n",
            "week2 std value: Data_week2    1.708221\n",
            "dtype: float64\n",
            "p-value [1.40507648e-48]\n",
            "we reject null hypothesis\n"
          ],
          "name": "stdout"
        }
      ]
    },
    {
      "cell_type": "code",
      "metadata": {
        "colab": {
          "base_uri": "https://localhost:8080/"
        },
        "id": "oCxyfDI-DtDt",
        "outputId": "433f8924-fd90-4553-e090-33c424bcc4d6"
      },
      "source": [
        "#One Sampled Z-test\r\n",
        "import pandas as pd\r\n",
        "from scipy import stats\r\n",
        "from statsmodels.stats import weightstats as stests\r\n",
        "df=pd.read_csv('Blood_pressure.csv')\r\n",
        "ztest ,pval = stests.ztest(df['bp_before'], x2=None, value=156)\r\n",
        "print(float(pval))\r\n",
        "if pval<0.05:\r\n",
        "    print(\"reject null hypothesis\")\r\n",
        "else:\r\n",
        "    print(\"accept null hypothesis\")"
      ],
      "execution_count": null,
      "outputs": [
        {
          "output_type": "stream",
          "text": [
            "9.863415835000629e-44\n",
            "reject null hypothesis\n"
          ],
          "name": "stdout"
        },
        {
          "output_type": "stream",
          "text": [
            "/usr/local/lib/python3.7/dist-packages/statsmodels/tools/_testing.py:19: FutureWarning: pandas.util.testing is deprecated. Use the functions in the public API at pandas.testing instead.\n",
            "  import pandas.util.testing as tm\n"
          ],
          "name": "stderr"
        }
      ]
    }
  ]
}