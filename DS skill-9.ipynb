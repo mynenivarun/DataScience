{
  "nbformat": 4,
  "nbformat_minor": 0,
  "metadata": {
    "colab": {
      "name": "190032107_DS_LAB9.ipynb",
      "provenance": [],
      "collapsed_sections": []
    },
    "kernelspec": {
      "name": "python3",
      "display_name": "Python 3"
    }
  },
  "cells": [
    {
      "cell_type": "code",
      "metadata": {
        "id": "0rUw-k9RAHQH"
      },
      "source": [
        "import pandas as pd\n",
        "import numpy as np\n"
      ],
      "execution_count": null,
      "outputs": []
    },
    {
      "cell_type": "code",
      "metadata": {
        "colab": {
          "base_uri": "https://localhost:8080/",
          "height": 639
        },
        "id": "HV8aoghTBRge",
        "outputId": "bad23221-f3e3-4725-e63f-33a0f864773e"
      },
      "source": [
        "data=[[1,'Sunny','Sunny'],[2,'Cloudy','Cloudy'],[3,'Sunny','Cloudy'],[4,'Cloudy','Cloudy'],[5,'Sunny','Sunny'],[6,'Cloudy','Cloudy'],[7,'Rainy','Rainy'],[8,'Sunny','Sunny'],[9,'Rainy','Rainy'],[10,'Sunny','Cloudy'],[11,'Cloudy','Cloudy'],[12,'Rainy','Rainy'],[13,'Sunny','Sunny'],[14,'Rainy','Cloudy'],[15,'Cloudy','Rainy'],[16,'Sunny','Sunny'],[17,'Cloudy','Sunny'],[18,'Cloudy','Cloudy'],[19,'Cloudy','Rainy'],[20,'Sunny','Sunny']]\n",
        "df_data=pd.DataFrame(data,columns=['Day','Vijayawada','Hyderabad'])\n",
        "df_data"
      ],
      "execution_count": null,
      "outputs": [
        {
          "output_type": "execute_result",
          "data": {
            "text/html": [
              "<div>\n",
              "<style scoped>\n",
              "    .dataframe tbody tr th:only-of-type {\n",
              "        vertical-align: middle;\n",
              "    }\n",
              "\n",
              "    .dataframe tbody tr th {\n",
              "        vertical-align: top;\n",
              "    }\n",
              "\n",
              "    .dataframe thead th {\n",
              "        text-align: right;\n",
              "    }\n",
              "</style>\n",
              "<table border=\"1\" class=\"dataframe\">\n",
              "  <thead>\n",
              "    <tr style=\"text-align: right;\">\n",
              "      <th></th>\n",
              "      <th>Day</th>\n",
              "      <th>Vijayawada</th>\n",
              "      <th>Hyderabad</th>\n",
              "    </tr>\n",
              "  </thead>\n",
              "  <tbody>\n",
              "    <tr>\n",
              "      <th>0</th>\n",
              "      <td>1</td>\n",
              "      <td>Sunny</td>\n",
              "      <td>Sunny</td>\n",
              "    </tr>\n",
              "    <tr>\n",
              "      <th>1</th>\n",
              "      <td>2</td>\n",
              "      <td>Cloudy</td>\n",
              "      <td>Cloudy</td>\n",
              "    </tr>\n",
              "    <tr>\n",
              "      <th>2</th>\n",
              "      <td>3</td>\n",
              "      <td>Sunny</td>\n",
              "      <td>Cloudy</td>\n",
              "    </tr>\n",
              "    <tr>\n",
              "      <th>3</th>\n",
              "      <td>4</td>\n",
              "      <td>Cloudy</td>\n",
              "      <td>Cloudy</td>\n",
              "    </tr>\n",
              "    <tr>\n",
              "      <th>4</th>\n",
              "      <td>5</td>\n",
              "      <td>Sunny</td>\n",
              "      <td>Sunny</td>\n",
              "    </tr>\n",
              "    <tr>\n",
              "      <th>5</th>\n",
              "      <td>6</td>\n",
              "      <td>Cloudy</td>\n",
              "      <td>Cloudy</td>\n",
              "    </tr>\n",
              "    <tr>\n",
              "      <th>6</th>\n",
              "      <td>7</td>\n",
              "      <td>Rainy</td>\n",
              "      <td>Rainy</td>\n",
              "    </tr>\n",
              "    <tr>\n",
              "      <th>7</th>\n",
              "      <td>8</td>\n",
              "      <td>Sunny</td>\n",
              "      <td>Sunny</td>\n",
              "    </tr>\n",
              "    <tr>\n",
              "      <th>8</th>\n",
              "      <td>9</td>\n",
              "      <td>Rainy</td>\n",
              "      <td>Rainy</td>\n",
              "    </tr>\n",
              "    <tr>\n",
              "      <th>9</th>\n",
              "      <td>10</td>\n",
              "      <td>Sunny</td>\n",
              "      <td>Cloudy</td>\n",
              "    </tr>\n",
              "    <tr>\n",
              "      <th>10</th>\n",
              "      <td>11</td>\n",
              "      <td>Cloudy</td>\n",
              "      <td>Cloudy</td>\n",
              "    </tr>\n",
              "    <tr>\n",
              "      <th>11</th>\n",
              "      <td>12</td>\n",
              "      <td>Rainy</td>\n",
              "      <td>Rainy</td>\n",
              "    </tr>\n",
              "    <tr>\n",
              "      <th>12</th>\n",
              "      <td>13</td>\n",
              "      <td>Sunny</td>\n",
              "      <td>Sunny</td>\n",
              "    </tr>\n",
              "    <tr>\n",
              "      <th>13</th>\n",
              "      <td>14</td>\n",
              "      <td>Rainy</td>\n",
              "      <td>Cloudy</td>\n",
              "    </tr>\n",
              "    <tr>\n",
              "      <th>14</th>\n",
              "      <td>15</td>\n",
              "      <td>Cloudy</td>\n",
              "      <td>Rainy</td>\n",
              "    </tr>\n",
              "    <tr>\n",
              "      <th>15</th>\n",
              "      <td>16</td>\n",
              "      <td>Sunny</td>\n",
              "      <td>Sunny</td>\n",
              "    </tr>\n",
              "    <tr>\n",
              "      <th>16</th>\n",
              "      <td>17</td>\n",
              "      <td>Cloudy</td>\n",
              "      <td>Sunny</td>\n",
              "    </tr>\n",
              "    <tr>\n",
              "      <th>17</th>\n",
              "      <td>18</td>\n",
              "      <td>Cloudy</td>\n",
              "      <td>Cloudy</td>\n",
              "    </tr>\n",
              "    <tr>\n",
              "      <th>18</th>\n",
              "      <td>19</td>\n",
              "      <td>Cloudy</td>\n",
              "      <td>Rainy</td>\n",
              "    </tr>\n",
              "    <tr>\n",
              "      <th>19</th>\n",
              "      <td>20</td>\n",
              "      <td>Sunny</td>\n",
              "      <td>Sunny</td>\n",
              "    </tr>\n",
              "  </tbody>\n",
              "</table>\n",
              "</div>"
            ],
            "text/plain": [
              "    Day Vijayawada Hyderabad\n",
              "0     1      Sunny     Sunny\n",
              "1     2     Cloudy    Cloudy\n",
              "2     3      Sunny    Cloudy\n",
              "3     4     Cloudy    Cloudy\n",
              "4     5      Sunny     Sunny\n",
              "5     6     Cloudy    Cloudy\n",
              "6     7      Rainy     Rainy\n",
              "7     8      Sunny     Sunny\n",
              "8     9      Rainy     Rainy\n",
              "9    10      Sunny    Cloudy\n",
              "10   11     Cloudy    Cloudy\n",
              "11   12      Rainy     Rainy\n",
              "12   13      Sunny     Sunny\n",
              "13   14      Rainy    Cloudy\n",
              "14   15     Cloudy     Rainy\n",
              "15   16      Sunny     Sunny\n",
              "16   17     Cloudy     Sunny\n",
              "17   18     Cloudy    Cloudy\n",
              "18   19     Cloudy     Rainy\n",
              "19   20      Sunny     Sunny"
            ]
          },
          "metadata": {
            "tags": []
          },
          "execution_count": 4
        }
      ]
    },
    {
      "cell_type": "code",
      "metadata": {
        "colab": {
          "base_uri": "https://localhost:8080/"
        },
        "id": "X3X1qKxEHfyj",
        "outputId": "7f3ce311-247b-49c1-a8d9-2dd37e36ab91"
      },
      "source": [
        "countss=countsc=countsr=0\n",
        "countcs=countcc=countcr=0\n",
        "countrs=countrc=countrr=0\n",
        "for j in range(0,20):\n",
        "  if(data[j][1]=='Sunny' and data[j][2]=='Sunny'):\n",
        "    countss+=1\n",
        "  if(data[j][1]=='Sunny' and data[j][2]=='Cloudy'):\n",
        "    countsc+=1\n",
        "  if(data[j][1]=='Sunny' and data[j][2]=='Rainy'):\n",
        "    countsr+=1\n",
        "\n",
        "  if(data[j][1]=='Cloudy' and data[j][2]=='Sunny'):\n",
        "    countcs+=1\n",
        "  if(data[j][1]=='Cloudy' and data[j][2]=='Cloudy'):\n",
        "    countcc+=1\n",
        "  if(data[j][1]=='Cloudy' and data[j][2]=='Rainy'):\n",
        "    countcr+=1\n",
        "\n",
        "  if(data[j][1]=='Rainy' and data[j][2]=='Sunny'):\n",
        "    countrs+=1\n",
        "  if(data[j][1]=='Rainy' and data[j][2]=='Cloudy'):\n",
        "    countrc+=1\n",
        "  if(data[j][1]=='Rainy' and data[j][2]=='Rainy'):\n",
        "    countrr+=1\n",
        "ms_vjw=countsc+countss+countsr\n",
        "mc_vjw=countcc+countcs+countcr\n",
        "mr_vjw=countrc+countrs+countrr\n",
        "print(countsc,countss,countsr)\n",
        "print(countcc,countcs,countcr)\n",
        "print(countrc,countrs,countrr)"
      ],
      "execution_count": null,
      "outputs": [
        {
          "output_type": "stream",
          "text": [
            "2 6 0\n",
            "5 1 2\n",
            "1 0 3\n"
          ],
          "name": "stdout"
        }
      ]
    },
    {
      "cell_type": "code",
      "metadata": {
        "colab": {
          "base_uri": "https://localhost:8080/",
          "height": 136
        },
        "id": "BmwEBqbbOPwy",
        "outputId": "4cd1cae0-6a25-4718-8ff3-e8b3fd73c4c5"
      },
      "source": [
        "list=[[countss,countcs,countrs],[countcs,countcc,countcr],[countrs,countrc,countrr]]\n",
        "df_1=pd.DataFrame(list,columns=['hyd_sunny','hyd_cloudy','hyd_rainy'],index=['vjw_sunny','vjw_cloudy','vjw_rainy'])\n",
        "df_1"
      ],
      "execution_count": null,
      "outputs": [
        {
          "output_type": "execute_result",
          "data": {
            "text/html": [
              "<div>\n",
              "<style scoped>\n",
              "    .dataframe tbody tr th:only-of-type {\n",
              "        vertical-align: middle;\n",
              "    }\n",
              "\n",
              "    .dataframe tbody tr th {\n",
              "        vertical-align: top;\n",
              "    }\n",
              "\n",
              "    .dataframe thead th {\n",
              "        text-align: right;\n",
              "    }\n",
              "</style>\n",
              "<table border=\"1\" class=\"dataframe\">\n",
              "  <thead>\n",
              "    <tr style=\"text-align: right;\">\n",
              "      <th></th>\n",
              "      <th>hyd_sunny</th>\n",
              "      <th>hyd_cloudy</th>\n",
              "      <th>hyd_rainy</th>\n",
              "    </tr>\n",
              "  </thead>\n",
              "  <tbody>\n",
              "    <tr>\n",
              "      <th>vjw_sunny</th>\n",
              "      <td>6</td>\n",
              "      <td>1</td>\n",
              "      <td>0</td>\n",
              "    </tr>\n",
              "    <tr>\n",
              "      <th>vjw_cloudy</th>\n",
              "      <td>1</td>\n",
              "      <td>5</td>\n",
              "      <td>2</td>\n",
              "    </tr>\n",
              "    <tr>\n",
              "      <th>vjw_rainy</th>\n",
              "      <td>0</td>\n",
              "      <td>1</td>\n",
              "      <td>3</td>\n",
              "    </tr>\n",
              "  </tbody>\n",
              "</table>\n",
              "</div>"
            ],
            "text/plain": [
              "            hyd_sunny  hyd_cloudy  hyd_rainy\n",
              "vjw_sunny           6           1          0\n",
              "vjw_cloudy          1           5          2\n",
              "vjw_rainy           0           1          3"
            ]
          },
          "metadata": {
            "tags": []
          },
          "execution_count": 6
        }
      ]
    },
    {
      "cell_type": "code",
      "metadata": {
        "colab": {
          "base_uri": "https://localhost:8080/"
        },
        "id": "U6o-UR1-JZH8",
        "outputId": "0f57eb27-393d-4c62-bbc1-d3087c180f9b"
      },
      "source": [
        "#joint probability p(Vijayawada=sunny, Hyderabad=sunny)\n",
        "jpss=countss/20\n",
        "jpss"
      ],
      "execution_count": null,
      "outputs": [
        {
          "output_type": "execute_result",
          "data": {
            "text/plain": [
              "0.3"
            ]
          },
          "metadata": {
            "tags": []
          },
          "execution_count": 7
        }
      ]
    },
    {
      "cell_type": "code",
      "metadata": {
        "colab": {
          "base_uri": "https://localhost:8080/"
        },
        "id": "1BKrATWwKaOg",
        "outputId": "82f67046-97ba-4a3a-83d5-f7478bc6b919"
      },
      "source": [
        "# p(Vijayawada=cloudy, Hyderabad=sunny)\n",
        "jpcs=countcs/20\n",
        "jpcs"
      ],
      "execution_count": null,
      "outputs": [
        {
          "output_type": "execute_result",
          "data": {
            "text/plain": [
              "0.05"
            ]
          },
          "metadata": {
            "tags": []
          },
          "execution_count": 8
        }
      ]
    },
    {
      "cell_type": "code",
      "metadata": {
        "colab": {
          "base_uri": "https://localhost:8080/"
        },
        "id": "Gdy_oXYnMCAw",
        "outputId": "08f99f02-9690-4161-cad0-62b1116e3a47"
      },
      "source": [
        "#  p(Vijayawada=rainy, Hyderabad=sunny)\n",
        "jprs=countrs/20\n",
        "jprs"
      ],
      "execution_count": null,
      "outputs": [
        {
          "output_type": "execute_result",
          "data": {
            "text/plain": [
              "0.0"
            ]
          },
          "metadata": {
            "tags": []
          },
          "execution_count": 9
        }
      ]
    },
    {
      "cell_type": "code",
      "metadata": {
        "colab": {
          "base_uri": "https://localhost:8080/"
        },
        "id": "vSbwjIMqMRcY",
        "outputId": "c553387f-d6bd-4d6c-dd7b-d590e97c8a0c"
      },
      "source": [
        "#p( Vijayawada=rainy, Hyderabad=rainy)\n",
        "jprr=countrr/20\n",
        "jprr"
      ],
      "execution_count": null,
      "outputs": [
        {
          "output_type": "execute_result",
          "data": {
            "text/plain": [
              "0.15"
            ]
          },
          "metadata": {
            "tags": []
          },
          "execution_count": 10
        }
      ]
    },
    {
      "cell_type": "code",
      "metadata": {
        "colab": {
          "base_uri": "https://localhost:8080/"
        },
        "id": "HwMwDQO1MdZE",
        "outputId": "38f17393-3e71-454b-a0cf-828e91def3dc"
      },
      "source": [
        "#p(Vijayawada=cloudy, Hyderabad=cloudy)\n",
        "jpcc=countcc/20\n",
        "jpcc"
      ],
      "execution_count": null,
      "outputs": [
        {
          "output_type": "execute_result",
          "data": {
            "text/plain": [
              "0.25"
            ]
          },
          "metadata": {
            "tags": []
          },
          "execution_count": 11
        }
      ]
    }
  ]
}